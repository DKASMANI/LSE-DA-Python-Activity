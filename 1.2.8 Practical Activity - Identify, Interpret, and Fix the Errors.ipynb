{
 "cells": [
  {
   "cell_type": "code",
   "execution_count": 6,
   "id": "58e6f631",
   "metadata": {},
   "outputs": [
    {
     "name": "stdout",
     "output_type": "stream",
     "text": [
      "24500\n"
     ]
    }
   ],
   "source": [
    "# Print the price\n",
    "sales_price = 24500\n",
    "\n",
    "#Name amended from \"total_price\" to \"sales_price\"\n",
    "\n",
    "print(sales_price)"
   ]
  },
  {
   "cell_type": "code",
   "execution_count": 7,
   "id": "443c3f77",
   "metadata": {},
   "outputs": [
    {
     "name": "stdout",
     "output_type": "stream",
     "text": [
      "My name is James Bond\n"
     ]
    }
   ],
   "source": [
    "# Print a text string verbatim\n",
    "\n",
    "#Brackets insterted before \"The\" and after \"Bond\"\n",
    "print(\"My name is James Bond\")"
   ]
  },
  {
   "cell_type": "code",
   "execution_count": 8,
   "id": "4bd83634",
   "metadata": {},
   "outputs": [
    {
     "name": "stdout",
     "output_type": "stream",
     "text": [
      "X is greater than 10\n"
     ]
    }
   ],
   "source": [
    "# Determine if x is greater than 10\n",
    "x = 11 \n",
    "\n",
    "#Indentation placed on line following colon mark\n",
    "\n",
    "if x > 10:\n",
    "    print('X is greater than 10')\n",
    "else: \n",
    "    print('x is not greater than 10')"
   ]
  },
  {
   "cell_type": "code",
   "execution_count": 13,
   "id": "fcc2bc47",
   "metadata": {},
   "outputs": [
    {
     "data": {
      "text/plain": [
       "2"
      ]
     },
     "execution_count": 13,
     "metadata": {},
     "output_type": "execute_result"
    }
   ],
   "source": [
    "# Create the variable list_a\n",
    "list_a = [1,2,3,4,'Ayaan', 'Hirsi']\n",
    "\n",
    "#list amened from \"11\" to \"1\"\n",
    "\n",
    "list_a[1]"
   ]
  },
  {
   "cell_type": "code",
   "execution_count": null,
   "id": "b9e174a2",
   "metadata": {},
   "outputs": [],
   "source": []
  }
 ],
 "metadata": {
  "kernelspec": {
   "display_name": "Python 3 (ipykernel)",
   "language": "python",
   "name": "python3"
  },
  "language_info": {
   "codemirror_mode": {
    "name": "ipython",
    "version": 3
   },
   "file_extension": ".py",
   "mimetype": "text/x-python",
   "name": "python",
   "nbconvert_exporter": "python",
   "pygments_lexer": "ipython3",
   "version": "3.9.12"
  }
 },
 "nbformat": 4,
 "nbformat_minor": 5
}
