{
 "cells": [
  {
   "cell_type": "code",
   "execution_count": 1,
   "id": "f4dc6183",
   "metadata": {},
   "outputs": [
    {
     "name": "stdout",
     "output_type": "stream",
     "text": [
      "My name is Dixon\n",
      "The date is 15 September 2022\n"
     ]
    }
   ],
   "source": [
    "#this is my first line of code\n",
    "\n",
    "print(\"My name is Dixon\")\n",
    "print (\"The date is 15 September 2022\")"
   ]
  },
  {
   "cell_type": "code",
   "execution_count": 2,
   "id": "82183017",
   "metadata": {},
   "outputs": [],
   "source": [
    "#Write a program to analyse real estate data\n",
    "\n",
    "#create variables\n",
    "\n",
    "a=45000\n",
    "b=23400\n",
    "c=67000\n",
    "d=34600\n",
    "e=12900\n"
   ]
  },
  {
   "cell_type": "code",
   "execution_count": 3,
   "id": "78429d58",
   "metadata": {},
   "outputs": [
    {
     "name": "stdout",
     "output_type": "stream",
     "text": [
      "182900\n"
     ]
    }
   ],
   "source": [
    "#Total Sales for December\n",
    "\n",
    "print(a+b+c+d+e)"
   ]
  },
  {
   "cell_type": "code",
   "execution_count": 6,
   "id": "03093643",
   "metadata": {},
   "outputs": [
    {
     "name": "stdout",
     "output_type": "stream",
     "text": [
      "36580.0\n"
     ]
    }
   ],
   "source": [
    "#Average Sales for December\n",
    "\n",
    "print((a+b+c+d+e)/5)"
   ]
  },
  {
   "cell_type": "code",
   "execution_count": 7,
   "id": "489978a7",
   "metadata": {},
   "outputs": [
    {
     "name": "stdout",
     "output_type": "stream",
     "text": [
      "60500\n"
     ]
    }
   ],
   "source": [
    "#Property Price for Property ID C\n",
    "\n",
    "print(c-6500)"
   ]
  },
  {
   "cell_type": "code",
   "execution_count": null,
   "id": "e26812df",
   "metadata": {},
   "outputs": [],
   "source": []
  }
 ],
 "metadata": {
  "kernelspec": {
   "display_name": "Python 3 (ipykernel)",
   "language": "python",
   "name": "python3"
  },
  "language_info": {
   "codemirror_mode": {
    "name": "ipython",
    "version": 3
   },
   "file_extension": ".py",
   "mimetype": "text/x-python",
   "name": "python",
   "nbconvert_exporter": "python",
   "pygments_lexer": "ipython3",
   "version": "3.9.12"
  }
 },
 "nbformat": 4,
 "nbformat_minor": 5
}
