{
 "cells": [
  {
   "cell_type": "code",
   "execution_count": 1,
   "id": "62eee46f",
   "metadata": {},
   "outputs": [
    {
     "data": {
      "text/plain": [
       "(940, 15)"
      ]
     },
     "execution_count": 1,
     "metadata": {},
     "output_type": "execute_result"
    }
   ],
   "source": [
    "# Prepare your workstation.\n",
    "import pandas as pd\n",
    "\n",
    "# Read CSV file from the current working directory.\n",
    "fitness = pd.read_csv('daily_activity.csv')\n",
    "\n",
    "fitness.shape"
   ]
  },
  {
   "cell_type": "code",
   "execution_count": 2,
   "id": "fb23a684",
   "metadata": {},
   "outputs": [
    {
     "data": {
      "text/plain": [
       "0       8.500000\n",
       "1       6.970000\n",
       "2       6.740000\n",
       "3       6.280000\n",
       "4       8.160000\n",
       "         ...    \n",
       "935     8.110000\n",
       "936    18.250000\n",
       "937     8.150000\n",
       "938    19.559999\n",
       "939     6.120000\n",
       "Name: TotalDistance, Length: 940, dtype: float64"
      ]
     },
     "execution_count": 2,
     "metadata": {},
     "output_type": "execute_result"
    }
   ],
   "source": [
    "# Values of total distance before scaling.\n",
    "fitness['TotalDistance']"
   ]
  },
  {
   "cell_type": "code",
   "execution_count": 3,
   "id": "3d4bd731",
   "metadata": {},
   "outputs": [
    {
     "data": {
      "text/plain": [
       "0      0.303247\n",
       "1      0.248662\n",
       "2      0.240457\n",
       "3      0.224046\n",
       "4      0.291117\n",
       "         ...   \n",
       "935    0.289333\n",
       "936    0.651088\n",
       "937    0.290760\n",
       "938    0.697824\n",
       "939    0.218337\n",
       "Name: TotalDistance, Length: 940, dtype: float64"
      ]
     },
     "execution_count": 3,
     "metadata": {},
     "output_type": "execute_result"
    }
   ],
   "source": [
    "# Apply the maximum absolute scaling in Pandas using the .abs() and .max() methods.\n",
    "def max_abs_scaling(df):\n",
    "    # Copy the DataFrame.\n",
    "    df_scaled = df.copy()\n",
    "    if isinstance(df_scaled, pd.DataFrame):\n",
    "        # Apply maximum absolute scaling.\n",
    "        for column in df_scaled.columns:\n",
    "            df_scaled[column] = df_scaled[column] / df_scaled[column].abs(\n",
    "            ).max()\n",
    "    else:\n",
    "        df_scaled = df_scaled / df_scaled.abs().max()\n",
    "        \n",
    "    return df_scaled\n",
    "    \n",
    "# Call the maximum_absolute_scaling function.\n",
    "fitness['TotalDistance'] = max_abs_scaling(fitness['TotalDistance'])\n",
    "\n",
    "# Call the new values of the total distance column.\n",
    "fitness['TotalDistance']"
   ]
  },
  {
   "cell_type": "code",
   "execution_count": 4,
   "id": "0f1406d4",
   "metadata": {},
   "outputs": [
    {
     "name": "stdout",
     "output_type": "stream",
     "text": [
      "0       8.500000\n",
      "1       6.970000\n",
      "2       6.740000\n",
      "3       6.280000\n",
      "4       8.160000\n",
      "         ...    \n",
      "935     8.110000\n",
      "936    18.250000\n",
      "937     8.150000\n",
      "938    19.559999\n",
      "939     6.120000\n",
      "Name: TrackerDistance, Length: 940, dtype: float64\n"
     ]
    },
    {
     "data": {
      "text/plain": [
       "0      0.303247\n",
       "1      0.248662\n",
       "2      0.240457\n",
       "3      0.224046\n",
       "4      0.291117\n",
       "         ...   \n",
       "935    0.289333\n",
       "936    0.651088\n",
       "937    0.290760\n",
       "938    0.697824\n",
       "939    0.218337\n",
       "Name: TrackerDistance_new, Length: 940, dtype: float64"
      ]
     },
     "execution_count": 4,
     "metadata": {},
     "output_type": "execute_result"
    }
   ],
   "source": [
    "# Start with before.\n",
    "print(fitness['TrackerDistance'])\n",
    "\n",
    "# Implementation of Maximum absolute scaling.\n",
    "# Apply the maximum absolute scaling in Pandas using the .abs() and .max() methods.\n",
    "def max_abs_scaling(df):\n",
    "        # Copy the DataFrame.\n",
    "    df_scaled = df.copy()\n",
    "    if isinstance(df_scaled, pd.DataFrame):\n",
    "        # Apply maximum absolute scaling.\n",
    "        for column in df_scaled.columns:\n",
    "            df_scaled[column] = df_scaled[column]  / df_scaled[column].abs(\n",
    "            ).max()\n",
    "    else:\n",
    "        df_scaled = df_scaled / df_scaled.abs().max()\n",
    "        \n",
    "    return df_scaled\n",
    "\n",
    "# Call the maximum_absolute_scaling function.\n",
    "fitness['TrackerDistance_new'] = max_abs_scaling(fitness['TrackerDistance'])\n",
    "fitness['TrackerDistance_new']"
   ]
  },
  {
   "cell_type": "code",
   "execution_count": null,
   "id": "f63ba405",
   "metadata": {},
   "outputs": [],
   "source": []
  }
 ],
 "metadata": {
  "kernelspec": {
   "display_name": "Python 3 (ipykernel)",
   "language": "python",
   "name": "python3"
  },
  "language_info": {
   "codemirror_mode": {
    "name": "ipython",
    "version": 3
   },
   "file_extension": ".py",
   "mimetype": "text/x-python",
   "name": "python",
   "nbconvert_exporter": "python",
   "pygments_lexer": "ipython3",
   "version": "3.9.12"
  }
 },
 "nbformat": 4,
 "nbformat_minor": 5
}
