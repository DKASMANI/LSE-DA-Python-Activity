{
 "cells": [
  {
   "cell_type": "code",
   "execution_count": 1,
   "id": "994f0bc0",
   "metadata": {},
   "outputs": [
    {
     "name": "stdout",
     "output_type": "stream",
     "text": [
      "Requirement already satisfied: nb_black in c:\\users\\opanj\\anaconda3\\lib\\site-packages (1.0.7)\n",
      "Requirement already satisfied: ipython in c:\\users\\opanj\\anaconda3\\lib\\site-packages (from nb_black) (8.2.0)\n",
      "Requirement already satisfied: black>='19.3' in c:\\users\\opanj\\anaconda3\\lib\\site-packages (from nb_black) (19.10b0)\n",
      "Requirement already satisfied: typed-ast>=1.4.0 in c:\\users\\opanj\\anaconda3\\lib\\site-packages (from black>='19.3'->nb_black) (1.4.3)\n",
      "Requirement already satisfied: regex in c:\\users\\opanj\\anaconda3\\lib\\site-packages (from black>='19.3'->nb_black) (2022.3.15)\n",
      "Requirement already satisfied: attrs>=18.1.0 in c:\\users\\opanj\\anaconda3\\lib\\site-packages (from black>='19.3'->nb_black) (21.4.0)\n",
      "Requirement already satisfied: appdirs in c:\\users\\opanj\\anaconda3\\lib\\site-packages (from black>='19.3'->nb_black) (1.4.4)\n",
      "Requirement already satisfied: click>=6.5 in c:\\users\\opanj\\anaconda3\\lib\\site-packages (from black>='19.3'->nb_black) (8.0.4)\n",
      "Requirement already satisfied: toml>=0.9.4 in c:\\users\\opanj\\anaconda3\\lib\\site-packages (from black>='19.3'->nb_black) (0.10.2)\n",
      "Requirement already satisfied: pathspec<1,>=0.6 in c:\\users\\opanj\\anaconda3\\lib\\site-packages (from black>='19.3'->nb_black) (0.7.0)\n",
      "Requirement already satisfied: colorama in c:\\users\\opanj\\anaconda3\\lib\\site-packages (from click>=6.5->black>='19.3'->nb_black) (0.4.4)\n",
      "Requirement already satisfied: jedi>=0.16 in c:\\users\\opanj\\anaconda3\\lib\\site-packages (from ipython->nb_black) (0.18.1)\n",
      "Requirement already satisfied: matplotlib-inline in c:\\users\\opanj\\anaconda3\\lib\\site-packages (from ipython->nb_black) (0.1.2)\n",
      "Requirement already satisfied: stack-data in c:\\users\\opanj\\anaconda3\\lib\\site-packages (from ipython->nb_black) (0.2.0)\n",
      "Requirement already satisfied: pickleshare in c:\\users\\opanj\\anaconda3\\lib\\site-packages (from ipython->nb_black) (0.7.5)\n",
      "Requirement already satisfied: setuptools>=18.5 in c:\\users\\opanj\\anaconda3\\lib\\site-packages (from ipython->nb_black) (61.2.0)\n",
      "Requirement already satisfied: pygments>=2.4.0 in c:\\users\\opanj\\anaconda3\\lib\\site-packages (from ipython->nb_black) (2.11.2)\n",
      "Requirement already satisfied: backcall in c:\\users\\opanj\\anaconda3\\lib\\site-packages (from ipython->nb_black) (0.2.0)\n",
      "Requirement already satisfied: decorator in c:\\users\\opanj\\anaconda3\\lib\\site-packages (from ipython->nb_black) (5.1.1)\n",
      "Requirement already satisfied: traitlets>=5 in c:\\users\\opanj\\anaconda3\\lib\\site-packages (from ipython->nb_black) (5.1.1)\n",
      "Requirement already satisfied: prompt-toolkit!=3.0.0,!=3.0.1,<3.1.0,>=2.0.0 in c:\\users\\opanj\\anaconda3\\lib\\site-packages (from ipython->nb_black) (3.0.20)\n",
      "Requirement already satisfied: parso<0.9.0,>=0.8.0 in c:\\users\\opanj\\anaconda3\\lib\\site-packages (from jedi>=0.16->ipython->nb_black) (0.8.3)\n",
      "Requirement already satisfied: wcwidth in c:\\users\\opanj\\anaconda3\\lib\\site-packages (from prompt-toolkit!=3.0.0,!=3.0.1,<3.1.0,>=2.0.0->ipython->nb_black) (0.2.5)\n",
      "Requirement already satisfied: pure-eval in c:\\users\\opanj\\anaconda3\\lib\\site-packages (from stack-data->ipython->nb_black) (0.2.2)\n",
      "Requirement already satisfied: executing in c:\\users\\opanj\\anaconda3\\lib\\site-packages (from stack-data->ipython->nb_black) (0.8.3)\n",
      "Requirement already satisfied: asttokens in c:\\users\\opanj\\anaconda3\\lib\\site-packages (from stack-data->ipython->nb_black) (2.0.5)\n",
      "Requirement already satisfied: six in c:\\users\\opanj\\anaconda3\\lib\\site-packages (from asttokens->stack-data->ipython->nb_black) (1.16.0)\n",
      "Note: you may need to restart the kernel to use updated packages.\n"
     ]
    }
   ],
   "source": [
    "pip install nb_black"
   ]
  },
  {
   "cell_type": "code",
   "execution_count": 2,
   "id": "e4b2811d",
   "metadata": {},
   "outputs": [
    {
     "data": {
      "application/javascript": [
       "\n",
       "            setTimeout(function() {\n",
       "                var nbb_cell_id = 2;\n",
       "                var nbb_unformatted_code = \"%load_ext nb_black\";\n",
       "                var nbb_formatted_code = \"%load_ext nb_black\";\n",
       "                var nbb_cells = Jupyter.notebook.get_cells();\n",
       "                for (var i = 0; i < nbb_cells.length; ++i) {\n",
       "                    if (nbb_cells[i].input_prompt_number == nbb_cell_id) {\n",
       "                        if (nbb_cells[i].get_text() == nbb_unformatted_code) {\n",
       "                             nbb_cells[i].set_text(nbb_formatted_code);\n",
       "                        }\n",
       "                        break;\n",
       "                    }\n",
       "                }\n",
       "            }, 500);\n",
       "            "
      ],
      "text/plain": [
       "<IPython.core.display.Javascript object>"
      ]
     },
     "metadata": {},
     "output_type": "display_data"
    }
   ],
   "source": [
    "%load_ext nb_black"
   ]
  },
  {
   "cell_type": "code",
   "execution_count": null,
   "id": "f95f36c4",
   "metadata": {},
   "outputs": [],
   "source": []
  }
 ],
 "metadata": {
  "kernelspec": {
   "display_name": "Python 3 (ipykernel)",
   "language": "python",
   "name": "python3"
  },
  "language_info": {
   "codemirror_mode": {
    "name": "ipython",
    "version": 3
   },
   "file_extension": ".py",
   "mimetype": "text/x-python",
   "name": "python",
   "nbconvert_exporter": "python",
   "pygments_lexer": "ipython3",
   "version": "3.9.12"
  }
 },
 "nbformat": 4,
 "nbformat_minor": 5
}
