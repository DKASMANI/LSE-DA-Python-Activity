{
 "cells": [
  {
   "cell_type": "code",
   "execution_count": 1,
   "id": "9fadc441",
   "metadata": {},
   "outputs": [
    {
     "name": "stdout",
     "output_type": "stream",
     "text": [
      "SUCCESS\n"
     ]
    },
    {
     "data": {
      "text/html": [
       "<div>\n",
       "<style scoped>\n",
       "    .dataframe tbody tr th:only-of-type {\n",
       "        vertical-align: middle;\n",
       "    }\n",
       "\n",
       "    .dataframe tbody tr th {\n",
       "        vertical-align: top;\n",
       "    }\n",
       "\n",
       "    .dataframe thead th {\n",
       "        text-align: right;\n",
       "    }\n",
       "</style>\n",
       "<table border=\"1\" class=\"dataframe\">\n",
       "  <thead>\n",
       "    <tr style=\"text-align: right;\">\n",
       "      <th></th>\n",
       "      <th>ID</th>\n",
       "      <th>Country</th>\n",
       "      <th>NewConfirmed</th>\n",
       "      <th>TotalConfirmed</th>\n",
       "      <th>NewDeaths</th>\n",
       "      <th>TotalDeaths</th>\n",
       "      <th>NewRecovered</th>\n",
       "      <th>TotalRecovered</th>\n",
       "      <th>Date</th>\n",
       "    </tr>\n",
       "  </thead>\n",
       "  <tbody>\n",
       "    <tr>\n",
       "      <th>196</th>\n",
       "      <td>65f072a6-b590-46f0-aee1-3a9042572085</td>\n",
       "      <td>Zimbabwe</td>\n",
       "      <td>0</td>\n",
       "      <td>257749</td>\n",
       "      <td>0</td>\n",
       "      <td>5604</td>\n",
       "      <td>0</td>\n",
       "      <td>0</td>\n",
       "      <td>2022-10-13T04:57:24.295Z</td>\n",
       "    </tr>\n",
       "  </tbody>\n",
       "</table>\n",
       "</div>"
      ],
      "text/plain": [
       "                                       ID   Country  NewConfirmed  \\\n",
       "196  65f072a6-b590-46f0-aee1-3a9042572085  Zimbabwe             0   \n",
       "\n",
       "     TotalConfirmed  NewDeaths  TotalDeaths  NewRecovered  TotalRecovered  \\\n",
       "196          257749          0         5604             0               0   \n",
       "\n",
       "                         Date  \n",
       "196  2022-10-13T04:57:24.295Z  "
      ]
     },
     "execution_count": 1,
     "metadata": {},
     "output_type": "execute_result"
    }
   ],
   "source": [
    "# Import libraries.\n",
    "import pandas as pd\n",
    "import requests\n",
    "\n",
    "# Create variable to store the URL.\n",
    "r = requests.get(url='https://api.covid19api.com/summary', \n",
    "headers={'Accept': 'application/json'})\n",
    "\n",
    "# Check the status_code.\n",
    "if r.status_code == 200:\n",
    "    print('SUCCESS')\n",
    "    data = r.json()\n",
    "else:\n",
    "    print('FAILURE')\n",
    "\n",
    "# Create variable to store the DataFrame.\n",
    "country_summary = pd.DataFrame()\n",
    "\n",
    "# Create variable to store the countries.\n",
    "countries = data['Countries']\n",
    "\n",
    "for country in range(0, len(countries)):\n",
    "       stats = pd.DataFrame({\n",
    "         'ID': countries[country]['ID'],\n",
    "         'Country': countries[country]['Country'],\n",
    "         'NewConfirmed': countries[country]['NewConfirmed'],\n",
    "         'TotalConfirmed': countries[country]['TotalConfirmed'],\n",
    "         'NewDeaths': countries[country]['NewDeaths'],\n",
    "         'TotalDeaths': countries[country]['TotalDeaths'],\n",
    "         'NewRecovered': countries[country]['NewRecovered'],\n",
    "         'TotalRecovered': countries[country]['TotalRecovered'],\n",
    "         'Date': countries[country]['Date']},\n",
    "index=[country])\n",
    "\n",
    "# Create variable to combine the data with concat().\n",
    "country_summary = pd.concat([country_summary, stats])\n",
    "\n",
    "# View the output.\n",
    "country_summary.head()"
   ]
  },
  {
   "cell_type": "code",
   "execution_count": 2,
   "id": "c941ac55",
   "metadata": {},
   "outputs": [
    {
     "name": "stdout",
     "output_type": "stream",
     "text": [
      "Requirement already satisfied: packaging in c:\\users\\opanj\\anaconda3\\lib\\site-packages (21.3)\n",
      "Requirement already satisfied: pyparsing!=3.0.5,>=2.0.2 in c:\\users\\opanj\\anaconda3\\lib\\site-packages (from packaging) (3.0.4)\n"
     ]
    }
   ],
   "source": [
    "# Install packaging.\n",
    "!pip install packaging"
   ]
  },
  {
   "cell_type": "code",
   "execution_count": 3,
   "id": "7f82c441",
   "metadata": {},
   "outputs": [
    {
     "data": {
      "text/plain": [
       "'C:\\\\Users\\\\opanj'"
      ]
     },
     "execution_count": 3,
     "metadata": {},
     "output_type": "execute_result"
    }
   ],
   "source": [
    "# Import necessary libraries.\n",
    "import packaging\n",
    "import os\n",
    "\n",
    "# Determine the working directory.\n",
    "os.getcwd()"
   ]
  },
  {
   "cell_type": "code",
   "execution_count": 5,
   "id": "23a50dc1",
   "metadata": {},
   "outputs": [
    {
     "name": "stdout",
     "output_type": "stream",
     "text": [
      "Directory 'covid19' created\n"
     ]
    }
   ],
   "source": [
    "# Name of the directory you want to create.\n",
    "directory = 'covid19'\n",
    "\n",
    "# Parent path of directory as returned in the previous code snippet.\n",
    "parent_dir = 'C:\\\\Users\\\\opanj'\n",
    "\n",
    "# Path - specify the path for Jupyter Notebook.\n",
    "path = os.path.join(parent_dir, directory)\n",
    "\n",
    "# Mode - standard mode code.\n",
    "mode = 0o666\n",
    "\n",
    "# pPut everything together.\n",
    "os.mkdir(path, mode)\n",
    "\n",
    "# Determine if you have created the directory.\n",
    "print(\"Directory '% s' created\" % directory)"
   ]
  },
  {
   "cell_type": "code",
   "execution_count": 6,
   "id": "6b3a4606",
   "metadata": {},
   "outputs": [
    {
     "name": "stdout",
     "output_type": "stream",
     "text": [
      "Writing ./covid19/get_data.py\n"
     ]
    }
   ],
   "source": [
    "%%writefile ./covid19/get_data.py\n",
    "\n",
    "import pandas as pd\n",
    "import requests\n",
    "\n",
    "\n",
    "def country_summary():\n",
    "    \"\"\" obtain covid19 summary data by country \"\"\"\n",
    "\n",
    "    # make the get request\n",
    "    r = requests.get(url='https://api.covid19api.com/summary', headers={'Accept': 'application/json'})\n",
    "\n",
    "    # if the get request is successful parse the response as a python dict\n",
    "    if r.status_code == 200:\n",
    "        print(\"SUCCESS\")\n",
    "        data = r.json()\n",
    "    else:\n",
    "        print(\"FAILURE\")\n",
    "\n",
    "    # This is where we will store the final data.\n",
    "    country_summary = pd.DataFrame()\n",
    "\n",
    "    # Extract country summaries.\n",
    "    countries = data['Countries']\n",
    "\n",
    "    for country in range(0, len(countries)):\n",
    "       \n",
    "        stats = pd.DataFrame({\n",
    "            'ID': countries[country]['ID'],\n",
    "          'Country': countries[country]['Country'],\n",
    "          'NewConfirmed': countries[country]['NewConfirmed'],\n",
    "          'TotalConfirmed': countries[country]['TotalConfirmed'],\n",
    "          'NewDeaths': countries[country]['NewDeaths'],\n",
    "          'TotalDeaths': countries[country]['TotalDeaths'],\n",
    "          'NewRecovered': countries[country]['NewRecovered'],\n",
    "          'TotalRecovered': countries[country]['TotalRecovered'],\n",
    "          'Date': countries[country]['Date']},\n",
    "      index=[country])\n",
    "\n",
    "        # Combine the data.\n",
    "        country_summary = pd.concat([country_summary, stats])\n",
    "\n",
    "    return country_summary"
   ]
  },
  {
   "cell_type": "code",
   "execution_count": 7,
   "id": "dd361c4a",
   "metadata": {},
   "outputs": [
    {
     "name": "stdout",
     "output_type": "stream",
     "text": [
      "SUCCESS\n"
     ]
    },
    {
     "data": {
      "text/html": [
       "<div>\n",
       "<style scoped>\n",
       "    .dataframe tbody tr th:only-of-type {\n",
       "        vertical-align: middle;\n",
       "    }\n",
       "\n",
       "    .dataframe tbody tr th {\n",
       "        vertical-align: top;\n",
       "    }\n",
       "\n",
       "    .dataframe thead th {\n",
       "        text-align: right;\n",
       "    }\n",
       "</style>\n",
       "<table border=\"1\" class=\"dataframe\">\n",
       "  <thead>\n",
       "    <tr style=\"text-align: right;\">\n",
       "      <th></th>\n",
       "      <th>ID</th>\n",
       "      <th>Country</th>\n",
       "      <th>NewConfirmed</th>\n",
       "      <th>TotalConfirmed</th>\n",
       "      <th>NewDeaths</th>\n",
       "      <th>TotalDeaths</th>\n",
       "      <th>NewRecovered</th>\n",
       "      <th>TotalRecovered</th>\n",
       "      <th>Date</th>\n",
       "    </tr>\n",
       "  </thead>\n",
       "  <tbody>\n",
       "    <tr>\n",
       "      <th>0</th>\n",
       "      <td>2528fd5b-3839-44b1-aa32-5ed1327fcee5</td>\n",
       "      <td>Afghanistan</td>\n",
       "      <td>157</td>\n",
       "      <td>200626</td>\n",
       "      <td>0</td>\n",
       "      <td>7807</td>\n",
       "      <td>0</td>\n",
       "      <td>0</td>\n",
       "      <td>2022-10-13T04:57:24.295Z</td>\n",
       "    </tr>\n",
       "    <tr>\n",
       "      <th>1</th>\n",
       "      <td>ad11929c-c427-49a8-8d96-906545444c2b</td>\n",
       "      <td>Albania</td>\n",
       "      <td>31</td>\n",
       "      <td>332534</td>\n",
       "      <td>1</td>\n",
       "      <td>3590</td>\n",
       "      <td>0</td>\n",
       "      <td>0</td>\n",
       "      <td>2022-10-13T04:57:24.295Z</td>\n",
       "    </tr>\n",
       "    <tr>\n",
       "      <th>2</th>\n",
       "      <td>add89f83-344b-4c46-a96e-c01ebf83e818</td>\n",
       "      <td>Algeria</td>\n",
       "      <td>3</td>\n",
       "      <td>270716</td>\n",
       "      <td>0</td>\n",
       "      <td>6881</td>\n",
       "      <td>0</td>\n",
       "      <td>0</td>\n",
       "      <td>2022-10-13T04:57:24.295Z</td>\n",
       "    </tr>\n",
       "    <tr>\n",
       "      <th>3</th>\n",
       "      <td>e7d98167-0c72-45e4-91b9-cc113ad07b00</td>\n",
       "      <td>Andorra</td>\n",
       "      <td>0</td>\n",
       "      <td>46275</td>\n",
       "      <td>0</td>\n",
       "      <td>155</td>\n",
       "      <td>0</td>\n",
       "      <td>0</td>\n",
       "      <td>2022-10-13T04:57:24.295Z</td>\n",
       "    </tr>\n",
       "    <tr>\n",
       "      <th>4</th>\n",
       "      <td>039ce2bb-9692-4aa8-ad56-009e63b19db2</td>\n",
       "      <td>Angola</td>\n",
       "      <td>0</td>\n",
       "      <td>103131</td>\n",
       "      <td>0</td>\n",
       "      <td>1917</td>\n",
       "      <td>0</td>\n",
       "      <td>0</td>\n",
       "      <td>2022-10-13T04:57:24.295Z</td>\n",
       "    </tr>\n",
       "  </tbody>\n",
       "</table>\n",
       "</div>"
      ],
      "text/plain": [
       "                                     ID      Country  NewConfirmed  \\\n",
       "0  2528fd5b-3839-44b1-aa32-5ed1327fcee5  Afghanistan           157   \n",
       "1  ad11929c-c427-49a8-8d96-906545444c2b      Albania            31   \n",
       "2  add89f83-344b-4c46-a96e-c01ebf83e818      Algeria             3   \n",
       "3  e7d98167-0c72-45e4-91b9-cc113ad07b00      Andorra             0   \n",
       "4  039ce2bb-9692-4aa8-ad56-009e63b19db2       Angola             0   \n",
       "\n",
       "   TotalConfirmed  NewDeaths  TotalDeaths  NewRecovered  TotalRecovered  \\\n",
       "0          200626          0         7807             0               0   \n",
       "1          332534          1         3590             0               0   \n",
       "2          270716          0         6881             0               0   \n",
       "3           46275          0          155             0               0   \n",
       "4          103131          0         1917             0               0   \n",
       "\n",
       "                       Date  \n",
       "0  2022-10-13T04:57:24.295Z  \n",
       "1  2022-10-13T04:57:24.295Z  \n",
       "2  2022-10-13T04:57:24.295Z  \n",
       "3  2022-10-13T04:57:24.295Z  \n",
       "4  2022-10-13T04:57:24.295Z  "
      ]
     },
     "execution_count": 7,
     "metadata": {},
     "output_type": "execute_result"
    }
   ],
   "source": [
    "from covid19 import get_data\n",
    "\n",
    "df = get_data.country_summary()\n",
    "\n",
    "df.head()"
   ]
  },
  {
   "cell_type": "code",
   "execution_count": 8,
   "id": "aea33dd5",
   "metadata": {},
   "outputs": [
    {
     "name": "stdout",
     "output_type": "stream",
     "text": [
      "SUCCESS\n"
     ]
    },
    {
     "data": {
      "text/plain": [
       "3                  Andorra\n",
       "4                   Angola\n",
       "5               Antarctica\n",
       "6      Antigua and Barbuda\n",
       "7                Argentina\n",
       "              ...         \n",
       "184                 Uganda\n",
       "191                Vanuatu\n",
       "194                  Yemen\n",
       "195                 Zambia\n",
       "196               Zimbabwe\n",
       "Name: Country, Length: 93, dtype: object"
      ]
     },
     "execution_count": 8,
     "metadata": {},
     "output_type": "execute_result"
    }
   ],
   "source": [
    "from covid19 import get_data\n",
    "\n",
    "df = get_data.country_summary()\n",
    "\n",
    "df[df['NewConfirmed'] == 0]['Country']"
   ]
  },
  {
   "cell_type": "code",
   "execution_count": null,
   "id": "7bcaeebb",
   "metadata": {},
   "outputs": [],
   "source": []
  }
 ],
 "metadata": {
  "kernelspec": {
   "display_name": "Python 3 (ipykernel)",
   "language": "python",
   "name": "python3"
  },
  "language_info": {
   "codemirror_mode": {
    "name": "ipython",
    "version": 3
   },
   "file_extension": ".py",
   "mimetype": "text/x-python",
   "name": "python",
   "nbconvert_exporter": "python",
   "pygments_lexer": "ipython3",
   "version": "3.9.12"
  }
 },
 "nbformat": 4,
 "nbformat_minor": 5
}
