{
 "cells": [
  {
   "cell_type": "code",
   "execution_count": 1,
   "id": "4c10438e",
   "metadata": {},
   "outputs": [],
   "source": [
    "# Import Pandas and NumPy.\n",
    "import pandas as pd\n",
    "import numpy as np"
   ]
  },
  {
   "cell_type": "code",
   "execution_count": 2,
   "id": "61bc0269",
   "metadata": {},
   "outputs": [],
   "source": [
    "# Load the excel data using pd.read_excel.\n",
    "movies = pd.read_excel('movies_merge.xlsx')\n",
    "\n",
    "# Load the csv data using pd.read_csv.\n",
    "ott = pd.read_csv('ott_merge.csv')"
   ]
  },
  {
   "cell_type": "code",
   "execution_count": 3,
   "id": "43638e22",
   "metadata": {},
   "outputs": [
    {
     "name": "stdout",
     "output_type": "stream",
     "text": [
      "Index(['ID', 'Title', 'Year', 'Age', 'IMDb', 'Rotten Tomatoes', 'Directors',\n",
      "       'Genres', 'Country', 'Language', 'Runtime'],\n",
      "      dtype='object')\n",
      "(16744, 11)\n",
      "Index(['ID', 'Netflix', 'Hulu', 'Prime Video', 'Disney+'], dtype='object')\n",
      "(16744, 5)\n"
     ]
    }
   ],
   "source": [
    "# Data imported correctly?\n",
    "print(movies.columns)\n",
    "print(movies.shape)\n",
    "print(ott.columns)\n",
    "print(ott.shape)"
   ]
  },
  {
   "cell_type": "code",
   "execution_count": 6,
   "id": "4aded382",
   "metadata": {},
   "outputs": [],
   "source": [
    "# Merge the two DataFrames.\n",
    "movie_ott = pd.merge(movies, ott, how='left', on = 'ID')"
   ]
  },
  {
   "cell_type": "code",
   "execution_count": 7,
   "id": "5c9623ab",
   "metadata": {},
   "outputs": [
    {
     "name": "stdout",
     "output_type": "stream",
     "text": [
      "Index(['ID', 'Title', 'Year', 'Age', 'IMDb', 'Rotten Tomatoes', 'Directors',\n",
      "       'Genres', 'Country', 'Language', 'Runtime', 'Netflix', 'Hulu',\n",
      "       'Prime Video', 'Disney+'],\n",
      "      dtype='object')\n",
      "(16744, 15)\n"
     ]
    }
   ],
   "source": [
    "# DataFrames merged correctly?\n",
    "print(movie_ott.columns)\n",
    "print(movie_ott.shape)"
   ]
  },
  {
   "cell_type": "code",
   "execution_count": 8,
   "id": "191a1f06",
   "metadata": {},
   "outputs": [
    {
     "data": {
      "text/html": [
       "<div>\n",
       "<style scoped>\n",
       "    .dataframe tbody tr th:only-of-type {\n",
       "        vertical-align: middle;\n",
       "    }\n",
       "\n",
       "    .dataframe tbody tr th {\n",
       "        vertical-align: top;\n",
       "    }\n",
       "\n",
       "    .dataframe thead th {\n",
       "        text-align: right;\n",
       "    }\n",
       "</style>\n",
       "<table border=\"1\" class=\"dataframe\">\n",
       "  <thead>\n",
       "    <tr style=\"text-align: right;\">\n",
       "      <th></th>\n",
       "      <th>ID</th>\n",
       "      <th>Runtime</th>\n",
       "      <th>Genres</th>\n",
       "    </tr>\n",
       "  </thead>\n",
       "  <tbody>\n",
       "    <tr>\n",
       "      <th>0</th>\n",
       "      <td>1</td>\n",
       "      <td>148.0</td>\n",
       "      <td>Action,Adventure,Sci-Fi,Thriller</td>\n",
       "    </tr>\n",
       "    <tr>\n",
       "      <th>1</th>\n",
       "      <td>2</td>\n",
       "      <td>136.0</td>\n",
       "      <td>Action,Sci-Fi</td>\n",
       "    </tr>\n",
       "    <tr>\n",
       "      <th>2</th>\n",
       "      <td>3</td>\n",
       "      <td>149.0</td>\n",
       "      <td>Action,Adventure,Sci-Fi</td>\n",
       "    </tr>\n",
       "    <tr>\n",
       "      <th>3</th>\n",
       "      <td>4</td>\n",
       "      <td>116.0</td>\n",
       "      <td>Adventure,Comedy,Sci-Fi</td>\n",
       "    </tr>\n",
       "    <tr>\n",
       "      <th>4</th>\n",
       "      <td>5</td>\n",
       "      <td>161.0</td>\n",
       "      <td>Western</td>\n",
       "    </tr>\n",
       "    <tr>\n",
       "      <th>...</th>\n",
       "      <td>...</td>\n",
       "      <td>...</td>\n",
       "      <td>...</td>\n",
       "    </tr>\n",
       "    <tr>\n",
       "      <th>16739</th>\n",
       "      <td>16740</td>\n",
       "      <td>120.0</td>\n",
       "      <td>Comedy,Family,Fantasy,Horror</td>\n",
       "    </tr>\n",
       "    <tr>\n",
       "      <th>16740</th>\n",
       "      <td>16741</td>\n",
       "      <td>90.0</td>\n",
       "      <td>Comedy,Family,Sci-Fi</td>\n",
       "    </tr>\n",
       "    <tr>\n",
       "      <th>16741</th>\n",
       "      <td>16742</td>\n",
       "      <td>NaN</td>\n",
       "      <td>Documentary</td>\n",
       "    </tr>\n",
       "    <tr>\n",
       "      <th>16742</th>\n",
       "      <td>16743</td>\n",
       "      <td>NaN</td>\n",
       "      <td>Documentary</td>\n",
       "    </tr>\n",
       "    <tr>\n",
       "      <th>16743</th>\n",
       "      <td>16744</td>\n",
       "      <td>32.0</td>\n",
       "      <td>Documentary,Short,Family</td>\n",
       "    </tr>\n",
       "  </tbody>\n",
       "</table>\n",
       "<p>16744 rows × 3 columns</p>\n",
       "</div>"
      ],
      "text/plain": [
       "          ID  Runtime                            Genres\n",
       "0          1    148.0  Action,Adventure,Sci-Fi,Thriller\n",
       "1          2    136.0                     Action,Sci-Fi\n",
       "2          3    149.0           Action,Adventure,Sci-Fi\n",
       "3          4    116.0           Adventure,Comedy,Sci-Fi\n",
       "4          5    161.0                           Western\n",
       "...      ...      ...                               ...\n",
       "16739  16740    120.0      Comedy,Family,Fantasy,Horror\n",
       "16740  16741     90.0              Comedy,Family,Sci-Fi\n",
       "16741  16742      NaN                       Documentary\n",
       "16742  16743      NaN                       Documentary\n",
       "16743  16744     32.0          Documentary,Short,Family\n",
       "\n",
       "[16744 rows x 3 columns]"
      ]
     },
     "execution_count": 8,
     "metadata": {},
     "output_type": "execute_result"
    }
   ],
   "source": [
    "# Determine the runtime of each movie.\n",
    "movie_ott_runtime = movie_ott[['ID', 'Runtime', 'Genres']]\n",
    "\n",
    "# View the output.\n",
    "movie_ott_runtime"
   ]
  },
  {
   "cell_type": "code",
   "execution_count": 9,
   "id": "f945ee11",
   "metadata": {},
   "outputs": [
    {
     "data": {
      "text/plain": [
       "0        149.0\n",
       "1        137.0\n",
       "2        150.0\n",
       "3        117.0\n",
       "4        162.0\n",
       "         ...  \n",
       "16739    121.0\n",
       "16740     91.0\n",
       "16741      NaN\n",
       "16742      NaN\n",
       "16743     33.0\n",
       "Name: Runtime, Length: 16744, dtype: float64"
      ]
     },
     "execution_count": 9,
     "metadata": {},
     "output_type": "execute_result"
    }
   ],
   "source": [
    "# Add 60 seconds or 1 minute to runtime.\n",
    "movie_ott_runtime['Runtime'].add(1)"
   ]
  },
  {
   "cell_type": "code",
   "execution_count": 11,
   "id": "656ee41b",
   "metadata": {},
   "outputs": [
    {
     "name": "stderr",
     "output_type": "stream",
     "text": [
      "C:\\Users\\opanj\\AppData\\Local\\Temp\\ipykernel_16396\\3710624897.py:2: SettingWithCopyWarning: \n",
      "A value is trying to be set on a copy of a slice from a DataFrame.\n",
      "Try using .loc[row_indexer,col_indexer] = value instead\n",
      "\n",
      "See the caveats in the documentation: https://pandas.pydata.org/pandas-docs/stable/user_guide/indexing.html#returning-a-view-versus-a-copy\n",
      "  movie_ott_runtime['Gen_doc'] = np.where(movie_ott_runtime['Genres'].str.contains('Documentary'),\n"
     ]
    },
    {
     "data": {
      "text/html": [
       "<div>\n",
       "<style scoped>\n",
       "    .dataframe tbody tr th:only-of-type {\n",
       "        vertical-align: middle;\n",
       "    }\n",
       "\n",
       "    .dataframe tbody tr th {\n",
       "        vertical-align: top;\n",
       "    }\n",
       "\n",
       "    .dataframe thead th {\n",
       "        text-align: right;\n",
       "    }\n",
       "</style>\n",
       "<table border=\"1\" class=\"dataframe\">\n",
       "  <thead>\n",
       "    <tr style=\"text-align: right;\">\n",
       "      <th></th>\n",
       "      <th>ID</th>\n",
       "      <th>Runtime</th>\n",
       "      <th>Genres</th>\n",
       "      <th>Gen_doc</th>\n",
       "    </tr>\n",
       "  </thead>\n",
       "  <tbody>\n",
       "    <tr>\n",
       "      <th>0</th>\n",
       "      <td>1</td>\n",
       "      <td>148.0</td>\n",
       "      <td>Action,Adventure,Sci-Fi,Thriller</td>\n",
       "      <td>Not Documentary</td>\n",
       "    </tr>\n",
       "    <tr>\n",
       "      <th>1</th>\n",
       "      <td>2</td>\n",
       "      <td>136.0</td>\n",
       "      <td>Action,Sci-Fi</td>\n",
       "      <td>Not Documentary</td>\n",
       "    </tr>\n",
       "    <tr>\n",
       "      <th>2</th>\n",
       "      <td>3</td>\n",
       "      <td>149.0</td>\n",
       "      <td>Action,Adventure,Sci-Fi</td>\n",
       "      <td>Not Documentary</td>\n",
       "    </tr>\n",
       "    <tr>\n",
       "      <th>3</th>\n",
       "      <td>4</td>\n",
       "      <td>116.0</td>\n",
       "      <td>Adventure,Comedy,Sci-Fi</td>\n",
       "      <td>Not Documentary</td>\n",
       "    </tr>\n",
       "    <tr>\n",
       "      <th>4</th>\n",
       "      <td>5</td>\n",
       "      <td>161.0</td>\n",
       "      <td>Western</td>\n",
       "      <td>Not Documentary</td>\n",
       "    </tr>\n",
       "    <tr>\n",
       "      <th>...</th>\n",
       "      <td>...</td>\n",
       "      <td>...</td>\n",
       "      <td>...</td>\n",
       "      <td>...</td>\n",
       "    </tr>\n",
       "    <tr>\n",
       "      <th>16739</th>\n",
       "      <td>16740</td>\n",
       "      <td>120.0</td>\n",
       "      <td>Comedy,Family,Fantasy,Horror</td>\n",
       "      <td>Not Documentary</td>\n",
       "    </tr>\n",
       "    <tr>\n",
       "      <th>16740</th>\n",
       "      <td>16741</td>\n",
       "      <td>90.0</td>\n",
       "      <td>Comedy,Family,Sci-Fi</td>\n",
       "      <td>Not Documentary</td>\n",
       "    </tr>\n",
       "    <tr>\n",
       "      <th>16741</th>\n",
       "      <td>16742</td>\n",
       "      <td>NaN</td>\n",
       "      <td>Documentary</td>\n",
       "      <td>Documentary</td>\n",
       "    </tr>\n",
       "    <tr>\n",
       "      <th>16742</th>\n",
       "      <td>16743</td>\n",
       "      <td>NaN</td>\n",
       "      <td>Documentary</td>\n",
       "      <td>Documentary</td>\n",
       "    </tr>\n",
       "    <tr>\n",
       "      <th>16743</th>\n",
       "      <td>16744</td>\n",
       "      <td>32.0</td>\n",
       "      <td>Documentary,Short,Family</td>\n",
       "      <td>Documentary</td>\n",
       "    </tr>\n",
       "  </tbody>\n",
       "</table>\n",
       "<p>16744 rows × 4 columns</p>\n",
       "</div>"
      ],
      "text/plain": [
       "          ID  Runtime                            Genres          Gen_doc\n",
       "0          1    148.0  Action,Adventure,Sci-Fi,Thriller  Not Documentary\n",
       "1          2    136.0                     Action,Sci-Fi  Not Documentary\n",
       "2          3    149.0           Action,Adventure,Sci-Fi  Not Documentary\n",
       "3          4    116.0           Adventure,Comedy,Sci-Fi  Not Documentary\n",
       "4          5    161.0                           Western  Not Documentary\n",
       "...      ...      ...                               ...              ...\n",
       "16739  16740    120.0      Comedy,Family,Fantasy,Horror  Not Documentary\n",
       "16740  16741     90.0              Comedy,Family,Sci-Fi  Not Documentary\n",
       "16741  16742      NaN                       Documentary      Documentary\n",
       "16742  16743      NaN                       Documentary      Documentary\n",
       "16743  16744     32.0          Documentary,Short,Family      Documentary\n",
       "\n",
       "[16744 rows x 4 columns]"
      ]
     },
     "execution_count": 11,
     "metadata": {},
     "output_type": "execute_result"
    }
   ],
   "source": [
    "# Create a new column with documentaries.\n",
    "movie_ott_runtime['Gen_doc'] = np.where(movie_ott_runtime['Genres'].str.contains('Documentary'),\n",
    "                                      'Documentary', 'Not Documentary')\n",
    "\n",
    "# View the DataFrame.\n",
    "movie_ott_runtime"
   ]
  },
  {
   "cell_type": "code",
   "execution_count": 13,
   "id": "8f114c2b",
   "metadata": {},
   "outputs": [
    {
     "data": {
      "text/html": [
       "<div>\n",
       "<style scoped>\n",
       "    .dataframe tbody tr th:only-of-type {\n",
       "        vertical-align: middle;\n",
       "    }\n",
       "\n",
       "    .dataframe tbody tr th {\n",
       "        vertical-align: top;\n",
       "    }\n",
       "\n",
       "    .dataframe thead th {\n",
       "        text-align: right;\n",
       "    }\n",
       "</style>\n",
       "<table border=\"1\" class=\"dataframe\">\n",
       "  <thead>\n",
       "    <tr style=\"text-align: right;\">\n",
       "      <th></th>\n",
       "      <th>ID</th>\n",
       "      <th>Runtime</th>\n",
       "    </tr>\n",
       "  </thead>\n",
       "  <tbody>\n",
       "    <tr>\n",
       "      <th>0</th>\n",
       "      <td>1</td>\n",
       "      <td>148.0</td>\n",
       "    </tr>\n",
       "    <tr>\n",
       "      <th>1</th>\n",
       "      <td>2</td>\n",
       "      <td>136.0</td>\n",
       "    </tr>\n",
       "    <tr>\n",
       "      <th>2</th>\n",
       "      <td>3</td>\n",
       "      <td>149.0</td>\n",
       "    </tr>\n",
       "    <tr>\n",
       "      <th>3</th>\n",
       "      <td>4</td>\n",
       "      <td>116.0</td>\n",
       "    </tr>\n",
       "    <tr>\n",
       "      <th>4</th>\n",
       "      <td>5</td>\n",
       "      <td>161.0</td>\n",
       "    </tr>\n",
       "    <tr>\n",
       "      <th>...</th>\n",
       "      <td>...</td>\n",
       "      <td>...</td>\n",
       "    </tr>\n",
       "    <tr>\n",
       "      <th>16739</th>\n",
       "      <td>16740</td>\n",
       "      <td>120.0</td>\n",
       "    </tr>\n",
       "    <tr>\n",
       "      <th>16740</th>\n",
       "      <td>16741</td>\n",
       "      <td>90.0</td>\n",
       "    </tr>\n",
       "    <tr>\n",
       "      <th>16741</th>\n",
       "      <td>16742</td>\n",
       "      <td>NaN</td>\n",
       "    </tr>\n",
       "    <tr>\n",
       "      <th>16742</th>\n",
       "      <td>16743</td>\n",
       "      <td>NaN</td>\n",
       "    </tr>\n",
       "    <tr>\n",
       "      <th>16743</th>\n",
       "      <td>16744</td>\n",
       "      <td>32.0</td>\n",
       "    </tr>\n",
       "  </tbody>\n",
       "</table>\n",
       "<p>16744 rows × 2 columns</p>\n",
       "</div>"
      ],
      "text/plain": [
       "          ID  Runtime\n",
       "0          1    148.0\n",
       "1          2    136.0\n",
       "2          3    149.0\n",
       "3          4    116.0\n",
       "4          5    161.0\n",
       "...      ...      ...\n",
       "16739  16740    120.0\n",
       "16740  16741     90.0\n",
       "16741  16742      NaN\n",
       "16742  16743      NaN\n",
       "16743  16744     32.0\n",
       "\n",
       "[16744 rows x 2 columns]"
      ]
     },
     "execution_count": 13,
     "metadata": {},
     "output_type": "execute_result"
    }
   ],
   "source": [
    "# Determine original runtime.\n",
    "movie_ott_runtime[['ID', 'Runtime']]"
   ]
  },
  {
   "cell_type": "code",
   "execution_count": 14,
   "id": "72a8a1fc",
   "metadata": {},
   "outputs": [
    {
     "data": {
      "text/plain": [
       "0        147.99\n",
       "1        135.99\n",
       "2        148.99\n",
       "3        115.99\n",
       "4        160.99\n",
       "          ...  \n",
       "16739    119.99\n",
       "16740     89.99\n",
       "16741       NaN\n",
       "16742       NaN\n",
       "16743     31.99\n",
       "Name: Runtime, Length: 16744, dtype: float64"
      ]
     },
     "execution_count": 14,
     "metadata": {},
     "output_type": "execute_result"
    }
   ],
   "source": [
    "# Subtract 0.01 from runtime.\n",
    "movie_ott_runtime['Runtime'].subtract(0.01)"
   ]
  },
  {
   "cell_type": "code",
   "execution_count": 15,
   "id": "72cd2e51",
   "metadata": {},
   "outputs": [
    {
     "data": {
      "text/plain": [
       "0        149.0\n",
       "1        137.0\n",
       "2        150.0\n",
       "3        117.0\n",
       "4        162.0\n",
       "         ...  \n",
       "16739    121.0\n",
       "16740     91.0\n",
       "16741      NaN\n",
       "16742      NaN\n",
       "16743     33.0\n",
       "Name: Runtime, Length: 16744, dtype: float64"
      ]
     },
     "execution_count": 15,
     "metadata": {},
     "output_type": "execute_result"
    }
   ],
   "source": [
    "# Add 60 seconds or one minute with lambda function.\n",
    "movie_ott['Runtime'] = movie_ott['Runtime'].apply(lambda x: x + 1)\n",
    "\n",
    "# View output\n",
    "movie_ott['Runtime']"
   ]
  },
  {
   "cell_type": "code",
   "execution_count": 16,
   "id": "4c7712c9",
   "metadata": {},
   "outputs": [
    {
     "data": {
      "text/plain": [
       "0        147.99\n",
       "1        135.99\n",
       "2        148.99\n",
       "3        115.99\n",
       "4        160.99\n",
       "          ...  \n",
       "16739    119.99\n",
       "16740     89.99\n",
       "16741       NaN\n",
       "16742       NaN\n",
       "16743     31.99\n",
       "Name: Runtime, Length: 16744, dtype: float64"
      ]
     },
     "execution_count": 16,
     "metadata": {},
     "output_type": "execute_result"
    }
   ],
   "source": [
    "# Subtract 0.01 from runtime with lamda function.\n",
    "movie_ott['Runtime'] = movie_ott_runtime['Runtime'].apply(lambda x: x - 0.01)\n",
    "\n",
    "# View output\n",
    "movie_ott['Runtime']"
   ]
  },
  {
   "cell_type": "code",
   "execution_count": null,
   "id": "c1eccb54",
   "metadata": {},
   "outputs": [],
   "source": []
  }
 ],
 "metadata": {
  "kernelspec": {
   "display_name": "Python 3 (ipykernel)",
   "language": "python",
   "name": "python3"
  },
  "language_info": {
   "codemirror_mode": {
    "name": "ipython",
    "version": 3
   },
   "file_extension": ".py",
   "mimetype": "text/x-python",
   "name": "python",
   "nbconvert_exporter": "python",
   "pygments_lexer": "ipython3",
   "version": "3.9.12"
  }
 },
 "nbformat": 4,
 "nbformat_minor": 5
}
