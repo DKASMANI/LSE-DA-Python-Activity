{
 "cells": [
  {
   "cell_type": "code",
   "execution_count": 1,
   "id": "8081fc76",
   "metadata": {},
   "outputs": [
    {
     "data": {
      "text/plain": [
       "['Id',\n",
       " 'ActivityDate',\n",
       " 'TotalSteps',\n",
       " 'TotalDistance',\n",
       " 'TrackerDistance',\n",
       " 'LoggedActivitiesDistance',\n",
       " 'VeryActiveDistance',\n",
       " 'ModeratelyActiveDistance',\n",
       " 'LightActiveDistance',\n",
       " 'SedentaryActiveDistance',\n",
       " 'VeryActiveMinutes',\n",
       " 'FairlyActiveMinutes',\n",
       " 'LightlyActiveMinutes',\n",
       " 'SedentaryMinutes',\n",
       " 'Calories']"
      ]
     },
     "execution_count": 1,
     "metadata": {},
     "output_type": "execute_result"
    }
   ],
   "source": [
    "# Prepare your workstation.\n",
    "import pandas as pd\n",
    "\n",
    "# Read CSV file from the current working directory.\n",
    "fitness = pd.read_csv('daily_activity.csv')\n",
    "\n",
    "# Column names of data set.\n",
    "my_list = fitness.columns.values.tolist()\n",
    "\n",
    "my_list"
   ]
  },
  {
   "cell_type": "code",
   "execution_count": 2,
   "id": "5ac964ee",
   "metadata": {},
   "outputs": [
    {
     "name": "stdout",
     "output_type": "stream",
     "text": [
      "0      -318.609574\n",
      "1      -506.609574\n",
      "2      -527.609574\n",
      "3      -558.609574\n",
      "4      -440.609574\n",
      "          ...     \n",
      "935     543.390426\n",
      "936    1406.390426\n",
      "937     528.390426\n",
      "938    1528.390426\n",
      "939    -454.609574\n",
      "Name: cal_cat, Length: 940, dtype: float64\n",
      "           Id ActivityDate  TotalSteps  TotalDistance  TrackerDistance  \\\n",
      "0  1503960366    4/12/2016       13162           8.50             8.50   \n",
      "1  1503960366    4/13/2016       10735           6.97             6.97   \n",
      "2  1503960366    4/14/2016       10460           6.74             6.74   \n",
      "3  1503960366    4/15/2016        9762           6.28             6.28   \n",
      "4  1503960366    4/16/2016       12669           8.16             8.16   \n",
      "\n",
      "   LoggedActivitiesDistance  VeryActiveDistance  ModeratelyActiveDistance  \\\n",
      "0                       0.0                1.88                      0.55   \n",
      "1                       0.0                1.57                      0.69   \n",
      "2                       0.0                2.44                      0.40   \n",
      "3                       0.0                2.14                      1.26   \n",
      "4                       0.0                2.71                      0.41   \n",
      "\n",
      "   LightActiveDistance  SedentaryActiveDistance  VeryActiveMinutes  \\\n",
      "0                 6.06                      0.0                 25   \n",
      "1                 4.71                      0.0                 21   \n",
      "2                 3.91                      0.0                 30   \n",
      "3                 2.83                      0.0                 29   \n",
      "4                 5.04                      0.0                 36   \n",
      "\n",
      "   FairlyActiveMinutes  LightlyActiveMinutes  SedentaryMinutes  Calories  \\\n",
      "0                   13                   328               728      1985   \n",
      "1                   19                   217               776      1797   \n",
      "2                   11                   181              1218      1776   \n",
      "3                   34                   209               726      1745   \n",
      "4                   10                   221               773      1863   \n",
      "\n",
      "      cal_cat  \n",
      "0 -318.609574  \n",
      "1 -506.609574  \n",
      "2 -527.609574  \n",
      "3 -558.609574  \n",
      "4 -440.609574  \n"
     ]
    }
   ],
   "source": [
    "# Add column cal_cat to calculate the middle number of calories.\n",
    "fitness['cal_cat'] = fitness['Calories'] - fitness['Calories'].mean()\n",
    "\n",
    "# Sense-check values of cal_cat column.\n",
    "print(fitness['cal_cat'])\n",
    "\n",
    "# Print to sense-check column was added.\n",
    "print(fitness.head())"
   ]
  },
  {
   "cell_type": "code",
   "execution_count": 3,
   "id": "52fd49ba",
   "metadata": {},
   "outputs": [
    {
     "name": "stdout",
     "output_type": "stream",
     "text": [
      "30    -2303.609574\n",
      "879   -2303.609574\n",
      "817   -2303.609574\n",
      "653   -2303.609574\n",
      "345   -2251.609574\n",
      "          ...     \n",
      "585    2197.390426\n",
      "586    2242.390426\n",
      "913    2243.390426\n",
      "572    2248.390426\n",
      "606    2596.390426\n",
      "Name: cal_cat, Length: 940, dtype: float64\n",
      "-2303.609574468085\n"
     ]
    }
   ],
   "source": [
    "# Sort column from low to high to determine. \n",
    "print(fitness['cal_cat'].sort_values())\n",
    "\n",
    "# Determine min value (statistical method).\n",
    "print(fitness['cal_cat'].min())"
   ]
  },
  {
   "cell_type": "code",
   "execution_count": 4,
   "id": "87bb4373",
   "metadata": {},
   "outputs": [
    {
     "name": "stdout",
     "output_type": "stream",
     "text": [
      "30    -2303.609574\n",
      "879   -2303.609574\n",
      "817   -2303.609574\n",
      "653   -2303.609574\n",
      "345   -2251.609574\n",
      "          ...     \n",
      "585    2197.390426\n",
      "586    2242.390426\n",
      "913    2243.390426\n",
      "572    2248.390426\n",
      "606    2596.390426\n",
      "Name: cal_cat, Length: 940, dtype: float64\n",
      "2596.390425531915\n"
     ]
    }
   ],
   "source": [
    "# Sort column from low to high to determine. \n",
    "print(fitness['cal_cat'].sort_values())\n",
    "\n",
    "# Determine max value (statistical method).\n",
    "print(fitness['cal_cat'].max())"
   ]
  },
  {
   "cell_type": "code",
   "execution_count": null,
   "id": "d31d1c8a",
   "metadata": {},
   "outputs": [],
   "source": []
  }
 ],
 "metadata": {
  "kernelspec": {
   "display_name": "Python 3 (ipykernel)",
   "language": "python",
   "name": "python3"
  },
  "language_info": {
   "codemirror_mode": {
    "name": "ipython",
    "version": 3
   },
   "file_extension": ".py",
   "mimetype": "text/x-python",
   "name": "python",
   "nbconvert_exporter": "python",
   "pygments_lexer": "ipython3",
   "version": "3.9.12"
  }
 },
 "nbformat": 4,
 "nbformat_minor": 5
}
