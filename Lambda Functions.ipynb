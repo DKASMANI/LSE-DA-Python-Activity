{
 "cells": [
  {
   "cell_type": "code",
   "execution_count": 1,
   "id": "83ee007f",
   "metadata": {},
   "outputs": [
    {
     "data": {
      "text/plain": [
       "20"
      ]
     },
     "execution_count": 1,
     "metadata": {},
     "output_type": "execute_result"
    }
   ],
   "source": [
    "# Basic lambda example.\n",
    "example = lambda x: x * 2\n",
    "\n",
    "example(10)"
   ]
  },
  {
   "cell_type": "code",
   "execution_count": 2,
   "id": "c2ee977c",
   "metadata": {},
   "outputs": [
    {
     "data": {
      "text/plain": [
       "5"
      ]
     },
     "execution_count": 2,
     "metadata": {},
     "output_type": "execute_result"
    }
   ],
   "source": [
    "# Basic lambda example: multiple arguments.\n",
    "example_2 = lambda x, y, z: x * 2 + y - z\n",
    "\n",
    "example_2(5, 10, 15)"
   ]
  },
  {
   "cell_type": "code",
   "execution_count": 3,
   "id": "87d4123d",
   "metadata": {},
   "outputs": [
    {
     "data": {
      "text/plain": [
       "[10, 8, 7, 11]"
      ]
     },
     "execution_count": 3,
     "metadata": {},
     "output_type": "execute_result"
    }
   ],
   "source": [
    "# Create a list.\n",
    "sequence = [10, 2, 8, 7, 5, 4, 3, 11, 0, 1]\n",
    "\n",
    "# Lambda and filter function.\n",
    "filter_answer = filter (lambda x: x > 6, sequence) \n",
    "\n",
    "list(filter_answer)"
   ]
  },
  {
   "cell_type": "code",
   "execution_count": 4,
   "id": "b23b92fb",
   "metadata": {},
   "outputs": [
    {
     "data": {
      "text/plain": [
       "[100, 4, 64, 49, 25, 16, 121]"
      ]
     },
     "execution_count": 4,
     "metadata": {},
     "output_type": "execute_result"
    }
   ],
   "source": [
    "# Create a list.\n",
    "sequence_2 = [10, 2, 8, 7, 5, 4, 11]\n",
    "\n",
    "# Lambda and map function.\n",
    "squared_result = map (lambda x: x*x, sequence_2)\n",
    "\n",
    "list(squared_result)"
   ]
  },
  {
   "cell_type": "code",
   "execution_count": 5,
   "id": "f08e881c",
   "metadata": {},
   "outputs": [
    {
     "data": {
      "text/plain": [
       "'Vincent Van Gogh'"
      ]
     },
     "execution_count": 5,
     "metadata": {},
     "output_type": "execute_result"
    }
   ],
   "source": [
    "# Combine two values into one with lambda.\n",
    "full_name = lambda fn, ln: fn.strip().title() + \" \" + ln.strip().title()\n",
    "\n",
    "full_name(\"    vincent\", \"  van gogh\")"
   ]
  },
  {
   "cell_type": "code",
   "execution_count": 7,
   "id": "17fddbb3",
   "metadata": {},
   "outputs": [
    {
     "data": {
      "text/plain": [
       "(3945, 2)"
      ]
     },
     "execution_count": 7,
     "metadata": {},
     "output_type": "execute_result"
    }
   ],
   "source": [
    "# Import Pandas.\n",
    "import pandas as pd\n",
    "\n",
    "# Read a CSV file from the current working directory.\n",
    "products = pd.read_csv('products.csv')\n",
    "\n",
    "# View the DataFrame.\n",
    "products.shape"
   ]
  },
  {
   "cell_type": "code",
   "execution_count": 8,
   "id": "8acc0160",
   "metadata": {},
   "outputs": [
    {
     "data": {
      "text/html": [
       "<div>\n",
       "<style scoped>\n",
       "    .dataframe tbody tr th:only-of-type {\n",
       "        vertical-align: middle;\n",
       "    }\n",
       "\n",
       "    .dataframe tbody tr th {\n",
       "        vertical-align: top;\n",
       "    }\n",
       "\n",
       "    .dataframe thead th {\n",
       "        text-align: right;\n",
       "    }\n",
       "</style>\n",
       "<table border=\"1\" class=\"dataframe\">\n",
       "  <thead>\n",
       "    <tr style=\"text-align: right;\">\n",
       "      <th></th>\n",
       "      <th>StockCode</th>\n",
       "      <th>Description</th>\n",
       "    </tr>\n",
       "  </thead>\n",
       "  <tbody>\n",
       "    <tr>\n",
       "      <th>99</th>\n",
       "      <td>17090A</td>\n",
       "      <td>LAVENDER INCENSE 40 CONES IN TIN</td>\n",
       "    </tr>\n",
       "    <tr>\n",
       "      <th>100</th>\n",
       "      <td>17090D</td>\n",
       "      <td>VANILLA INCENSE 40 CONES IN TIN</td>\n",
       "    </tr>\n",
       "    <tr>\n",
       "      <th>101</th>\n",
       "      <td>17091A</td>\n",
       "      <td>LAVENDER INCENSE IN TIN</td>\n",
       "    </tr>\n",
       "    <tr>\n",
       "      <th>102</th>\n",
       "      <td>17091J</td>\n",
       "      <td>VANILLA INCENSE IN TIN</td>\n",
       "    </tr>\n",
       "    <tr>\n",
       "      <th>112</th>\n",
       "      <td>18007</td>\n",
       "      <td>ESSENTIAL BALM 3.5g TIN IN ENVELOPE</td>\n",
       "    </tr>\n",
       "    <tr>\n",
       "      <th>...</th>\n",
       "      <td>...</td>\n",
       "      <td>...</td>\n",
       "    </tr>\n",
       "    <tr>\n",
       "      <th>3540</th>\n",
       "      <td>85232B</td>\n",
       "      <td>SET OF 3 BABUSHKA STACKING TINS</td>\n",
       "    </tr>\n",
       "    <tr>\n",
       "      <th>3541</th>\n",
       "      <td>85232D</td>\n",
       "      <td>SET/3 DECOUPAGE STACKING TINS</td>\n",
       "    </tr>\n",
       "    <tr>\n",
       "      <th>3620</th>\n",
       "      <td>90037A</td>\n",
       "      <td>TINY CRYSTAL BRACELET RED</td>\n",
       "    </tr>\n",
       "    <tr>\n",
       "      <th>3621</th>\n",
       "      <td>90037B</td>\n",
       "      <td>TINY CRYSTAL BRACELET GREEN</td>\n",
       "    </tr>\n",
       "    <tr>\n",
       "      <th>3622</th>\n",
       "      <td>90037C</td>\n",
       "      <td>TINY CRYSTAL BRACELET BLUE</td>\n",
       "    </tr>\n",
       "  </tbody>\n",
       "</table>\n",
       "<p>135 rows × 2 columns</p>\n",
       "</div>"
      ],
      "text/plain": [
       "     StockCode                          Description\n",
       "99      17090A     LAVENDER INCENSE 40 CONES IN TIN\n",
       "100     17090D      VANILLA INCENSE 40 CONES IN TIN\n",
       "101     17091A              LAVENDER INCENSE IN TIN\n",
       "102     17091J               VANILLA INCENSE IN TIN\n",
       "112      18007  ESSENTIAL BALM 3.5g TIN IN ENVELOPE\n",
       "...        ...                                  ...\n",
       "3540    85232B      SET OF 3 BABUSHKA STACKING TINS\n",
       "3541    85232D        SET/3 DECOUPAGE STACKING TINS\n",
       "3620    90037A            TINY CRYSTAL BRACELET RED\n",
       "3621    90037B          TINY CRYSTAL BRACELET GREEN\n",
       "3622    90037C           TINY CRYSTAL BRACELET BLUE\n",
       "\n",
       "[135 rows x 2 columns]"
      ]
     },
     "execution_count": 8,
     "metadata": {},
     "output_type": "execute_result"
    }
   ],
   "source": [
    "# Write a lambda function to determine the word tin in description column.\n",
    "products[products['Description'].apply(lambda x: 'tin' in x.lower())]"
   ]
  },
  {
   "cell_type": "code",
   "execution_count": null,
   "id": "ade5fc14",
   "metadata": {},
   "outputs": [],
   "source": []
  }
 ],
 "metadata": {
  "kernelspec": {
   "display_name": "Python 3 (ipykernel)",
   "language": "python",
   "name": "python3"
  },
  "language_info": {
   "codemirror_mode": {
    "name": "ipython",
    "version": 3
   },
   "file_extension": ".py",
   "mimetype": "text/x-python",
   "name": "python",
   "nbconvert_exporter": "python",
   "pygments_lexer": "ipython3",
   "version": "3.9.12"
  }
 },
 "nbformat": 4,
 "nbformat_minor": 5
}
