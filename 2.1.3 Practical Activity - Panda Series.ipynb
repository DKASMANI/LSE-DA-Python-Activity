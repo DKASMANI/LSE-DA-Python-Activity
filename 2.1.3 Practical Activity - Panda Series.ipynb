{
 "cells": [
  {
   "cell_type": "code",
   "execution_count": 1,
   "id": "3c16d9af",
   "metadata": {},
   "outputs": [],
   "source": [
    "# import Pandas library\n",
    "import pandas as pd"
   ]
  },
  {
   "cell_type": "code",
   "execution_count": 2,
   "id": "1c39fd06",
   "metadata": {},
   "outputs": [
    {
     "name": "stdout",
     "output_type": "stream",
     "text": [
      "0     green\n",
      "1       red\n",
      "2    yellow\n",
      "3      blue\n",
      "4     black\n",
      "5     white\n",
      "dtype: object\n"
     ]
    }
   ],
   "source": [
    "# Create the variable colours.\n",
    "# Pass an array of data.\n",
    "colours = pd.Series(['green', 'red', 'yellow', 'blue', 'black', 'white'])\n",
    "\n",
    "# Print the Series.\n",
    "print(colours)"
   ]
  },
  {
   "cell_type": "code",
   "execution_count": 3,
   "id": "0374ae2f",
   "metadata": {},
   "outputs": [
    {
     "name": "stdout",
     "output_type": "stream",
     "text": [
      "0    1\n",
      "1    2\n",
      "2    3\n",
      "3    4\n",
      "4    5\n",
      "5    6\n",
      "dtype: int64\n"
     ]
    }
   ],
   "source": [
    "# Create a list.\n",
    "example_list = [1, 2, 3, 4, 5, 6]\n",
    "  \n",
    "# Create Series from a list.\n",
    "numbers = pd.Series(example_list)\n",
    "\n",
    "# Print the Series.\n",
    "print(numbers)"
   ]
  },
  {
   "cell_type": "code",
   "execution_count": 4,
   "id": "9bc75907",
   "metadata": {},
   "outputs": [
    {
     "name": "stdout",
     "output_type": "stream",
     "text": [
      "AU    Australian Dollar\n",
      "US            US Dollar\n",
      "IN         Indian Rupee\n",
      "DK         Danish Krone\n",
      "SW          Swiss Franc\n",
      "dtype: object\n"
     ]
    }
   ],
   "source": [
    "# Create a dictionary.\n",
    "# Specify the dictionary as dict_1.\n",
    "dict_1 = {'AU':'Australian Dollar',\n",
    "          'US': 'US Dollar',\n",
    "          'IN': 'Indian Rupee',\n",
    "          'DK': 'Danish Krone',\n",
    "          'SW': 'Swiss Franc'}\n",
    "\n",
    "# Name and create the Series.\n",
    "economics = pd.Series(dict_1)\n",
    "\n",
    "# Print the Series.\n",
    "print(economics)"
   ]
  },
  {
   "cell_type": "code",
   "execution_count": 9,
   "id": "5ff15966",
   "metadata": {},
   "outputs": [
    {
     "name": "stdout",
     "output_type": "stream",
     "text": [
      "101    Emergency Medical Services\n",
      "123              Law Enformcement\n",
      "224        Fire & Rescue Services\n",
      "900                  Public Works\n",
      "999          Emergency Management\n",
      "dtype: object\n"
     ]
    }
   ],
   "source": [
    "# Practiccal Activity 2.1.3\n",
    "# Emergency Numbers: Emergency Medical Service (101), Law Enforcement (123), Fire & Rescue Services (224),\n",
    "# Public Works (900) and Emergency Management (999).\n",
    "\n",
    "#Create a dictionary. \n",
    "em_nos = {'101':'Emergency Medical Services',\n",
    "          '123':'Law Enformcement',\n",
    "          '224':'Fire & Rescue Services',\n",
    "          '900':'Public Works',\n",
    "          '999':'Emergency Management'}\n",
    "\n",
    "# Name and create the series.\n",
    "Emergency_Numbers = pd.Series(em_nos)\n",
    "\n",
    "# Print the series.\n",
    "print(Emergency_Numbers)"
   ]
  },
  {
   "cell_type": "code",
   "execution_count": 12,
   "id": "b23c3795",
   "metadata": {},
   "outputs": [
    {
     "name": "stdout",
     "output_type": "stream",
     "text": [
      "0      Prevention\n",
      "1      Mitigation\n",
      "2    Preparedness\n",
      "3        Response\n",
      "4        Recovery\n",
      "dtype: object\n"
     ]
    }
   ],
   "source": [
    "# Practiccal Activity 2.1.3\n",
    "# Emergency Protocols: Prevention, Mitigation, Preparedness, Response and Recovery\n",
    "\n",
    "#Create a numbered list. \n",
    "Emergency_Protocols = pd.Series(['Prevention', 'Mitigation', 'Preparedness', 'Response', 'Recovery'])\n",
    "\n",
    "# Print the series.\n",
    "print(Emergency_Protocols)"
   ]
  },
  {
   "cell_type": "code",
   "execution_count": 15,
   "id": "47fd0d82",
   "metadata": {},
   "outputs": [
    {
     "name": "stdout",
     "output_type": "stream",
     "text": [
      "0                  Check Pulse (Neck)\n",
      "1                    Breathing (Nose)\n",
      "2    Obstructions (Nose, Ears, Mouth)\n",
      "3                 Pupils (Responsive)\n",
      "4                        Consiousness\n",
      "5                     Contact Details\n",
      "6                          Allergies?\n",
      "dtype: object\n"
     ]
    }
   ],
   "source": [
    "# Practiccal Activity 2.1.3\n",
    "# Emergency Checklist: Check Pulse (Neck), Breathing (Nose), Obstructions (Nose, Ears, Mouth), Pupils (Responsive), \n",
    "# Consiousness, Contact Details, Allergies\n",
    "\n",
    "#Create a series from the checklist. \n",
    "Checklist =['Check Pulse (Neck)', 'Breathing (Nose)', 'Obstructions (Nose, Ears, Mouth)', 'Pupils (Responsive)', 'Consiousness', 'Contact Details', 'Allergies?']\n",
    "\n",
    "\n",
    "# Name and create the series.\n",
    "Checklist = pd.Series(Checklist)\n",
    "\n",
    "# Print the series.\n",
    "print(Checklist)"
   ]
  },
  {
   "cell_type": "code",
   "execution_count": null,
   "id": "18f35229",
   "metadata": {},
   "outputs": [],
   "source": []
  }
 ],
 "metadata": {
  "kernelspec": {
   "display_name": "Python 3 (ipykernel)",
   "language": "python",
   "name": "python3"
  },
  "language_info": {
   "codemirror_mode": {
    "name": "ipython",
    "version": 3
   },
   "file_extension": ".py",
   "mimetype": "text/x-python",
   "name": "python",
   "nbconvert_exporter": "python",
   "pygments_lexer": "ipython3",
   "version": "3.9.12"
  }
 },
 "nbformat": 4,
 "nbformat_minor": 5
}
