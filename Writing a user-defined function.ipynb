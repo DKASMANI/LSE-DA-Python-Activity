{
 "cells": [
  {
   "cell_type": "code",
   "execution_count": 1,
   "id": "6dd62654",
   "metadata": {},
   "outputs": [],
   "source": [
    "def calculator (a,b): \n",
    "    print ('Addition:', a+b)\n",
    "    print ('Subtraction:', a-b)\n",
    "    print ('Multiplication:', a*b)\n",
    "    print ('Division:', a/b)\n",
    "    return;"
   ]
  },
  {
   "cell_type": "code",
   "execution_count": 2,
   "id": "fc2f3f91",
   "metadata": {},
   "outputs": [
    {
     "name": "stdout",
     "output_type": "stream",
     "text": [
      "Addition: 30\n",
      "Subtraction: 20\n",
      "Multiplication: 125\n",
      "Division: 5.0\n"
     ]
    }
   ],
   "source": [
    "calculator (25,5)"
   ]
  },
  {
   "cell_type": "code",
   "execution_count": 3,
   "id": "ff0c2c12",
   "metadata": {},
   "outputs": [
    {
     "data": {
      "text/plain": [
       "16"
      ]
     },
     "execution_count": 3,
     "metadata": {},
     "output_type": "execute_result"
    }
   ],
   "source": [
    "# Write an user-defined function.\n",
    "def f(x):\n",
    "    y = (x * 2) + 10\n",
    "    return y\n",
    "\n",
    "# Stipulate what to calculate.\n",
    "f(x=3)"
   ]
  },
  {
   "cell_type": "code",
   "execution_count": 4,
   "id": "91b0d63e",
   "metadata": {},
   "outputs": [
    {
     "data": {
      "text/plain": [
       "(3945, 2)"
      ]
     },
     "execution_count": 4,
     "metadata": {},
     "output_type": "execute_result"
    }
   ],
   "source": [
    "# Import Pandas.\n",
    "import pandas as pd\n",
    "\n",
    "# Read the CSV file from the current working directory.\n",
    "products = pd.read_csv('products.csv')\n",
    "\n",
    "# View the DataFrame.\n",
    "products.shape"
   ]
  },
  {
   "cell_type": "code",
   "execution_count": 5,
   "id": "ee8788f1",
   "metadata": {},
   "outputs": [
    {
     "name": "stdout",
     "output_type": "stream",
     "text": [
      "True\n",
      "True\n",
      "False\n"
     ]
    }
   ],
   "source": [
    "# Create an user-defined function\n",
    "def contains_glass(x):\n",
    "    \"\"\" does the product contain glass? \"\"\"\n",
    "    y = x.lower()\n",
    "    return \"glass\" in y\n",
    "\n",
    "# View the output.\n",
    "print(contains_glass(x=\"Glass bottle\"))\n",
    "print(contains_glass(x=\"glass bottle\"))\n",
    "print(contains_glass(x=\"bottle\"))"
   ]
  },
  {
   "cell_type": "code",
   "execution_count": 6,
   "id": "e443a5aa",
   "metadata": {},
   "outputs": [
    {
     "name": "stdout",
     "output_type": "stream",
     "text": [
      "0       False\n",
      "1       False\n",
      "2       False\n",
      "3       False\n",
      "4       False\n",
      "        ...  \n",
      "3940    False\n",
      "3941    False\n",
      "3942    False\n",
      "3943    False\n",
      "3944    False\n",
      "Name: Description, Length: 3945, dtype: bool\n"
     ]
    },
    {
     "data": {
      "text/html": [
       "<div>\n",
       "<style scoped>\n",
       "    .dataframe tbody tr th:only-of-type {\n",
       "        vertical-align: middle;\n",
       "    }\n",
       "\n",
       "    .dataframe tbody tr th {\n",
       "        vertical-align: top;\n",
       "    }\n",
       "\n",
       "    .dataframe thead th {\n",
       "        text-align: right;\n",
       "    }\n",
       "</style>\n",
       "<table border=\"1\" class=\"dataframe\">\n",
       "  <thead>\n",
       "    <tr style=\"text-align: right;\">\n",
       "      <th></th>\n",
       "      <th>StockCode</th>\n",
       "      <th>Description</th>\n",
       "    </tr>\n",
       "  </thead>\n",
       "  <tbody>\n",
       "    <tr>\n",
       "      <th>106</th>\n",
       "      <td>17129F</td>\n",
       "      <td>BLUE GLASS GEMS IN BAG</td>\n",
       "    </tr>\n",
       "    <tr>\n",
       "      <th>220</th>\n",
       "      <td>20798</td>\n",
       "      <td>CLEAR MILKSHAKE GLASS</td>\n",
       "    </tr>\n",
       "    <tr>\n",
       "      <th>221</th>\n",
       "      <td>20801</td>\n",
       "      <td>LARGE PINK GLASS SUNDAE DISH</td>\n",
       "    </tr>\n",
       "    <tr>\n",
       "      <th>222</th>\n",
       "      <td>20802</td>\n",
       "      <td>SMALL GLASS SUNDAE DISH CLEAR</td>\n",
       "    </tr>\n",
       "    <tr>\n",
       "      <th>223</th>\n",
       "      <td>20803</td>\n",
       "      <td>SMALL PINK GLASS SUNDAE DISH</td>\n",
       "    </tr>\n",
       "    <tr>\n",
       "      <th>...</th>\n",
       "      <td>...</td>\n",
       "      <td>...</td>\n",
       "    </tr>\n",
       "    <tr>\n",
       "      <th>3866</th>\n",
       "      <td>90199D</td>\n",
       "      <td>5 STRAND GLASS NECKLACE AMBER</td>\n",
       "    </tr>\n",
       "    <tr>\n",
       "      <th>3886</th>\n",
       "      <td>90209A</td>\n",
       "      <td>PURPLE ENAMEL+GLASS HAIR COMB</td>\n",
       "    </tr>\n",
       "    <tr>\n",
       "      <th>3887</th>\n",
       "      <td>90209B</td>\n",
       "      <td>GREEN ENAMEL+GLASS HAIR COMB</td>\n",
       "    </tr>\n",
       "    <tr>\n",
       "      <th>3888</th>\n",
       "      <td>90209C</td>\n",
       "      <td>PINK ENAMEL+GLASS HAIR COMB</td>\n",
       "    </tr>\n",
       "    <tr>\n",
       "      <th>3927</th>\n",
       "      <td>DCGS0003</td>\n",
       "      <td>BOXED GLASS ASHTRAY</td>\n",
       "    </tr>\n",
       "  </tbody>\n",
       "</table>\n",
       "<p>171 rows × 2 columns</p>\n",
       "</div>"
      ],
      "text/plain": [
       "     StockCode                    Description\n",
       "106     17129F         BLUE GLASS GEMS IN BAG\n",
       "220      20798          CLEAR MILKSHAKE GLASS\n",
       "221      20801   LARGE PINK GLASS SUNDAE DISH\n",
       "222      20802  SMALL GLASS SUNDAE DISH CLEAR\n",
       "223      20803   SMALL PINK GLASS SUNDAE DISH\n",
       "...        ...                            ...\n",
       "3866    90199D  5 STRAND GLASS NECKLACE AMBER\n",
       "3886    90209A  PURPLE ENAMEL+GLASS HAIR COMB\n",
       "3887    90209B   GREEN ENAMEL+GLASS HAIR COMB\n",
       "3888    90209C    PINK ENAMEL+GLASS HAIR COMB\n",
       "3927  DCGS0003            BOXED GLASS ASHTRAY\n",
       "\n",
       "[171 rows x 2 columns]"
      ]
     },
     "execution_count": 6,
     "metadata": {},
     "output_type": "execute_result"
    }
   ],
   "source": [
    "# Use the apply() function.\n",
    "fc = products['Description'].apply(contains_glass)\n",
    "\n",
    "# View the DataFrame.\n",
    "print(fc)\n",
    "\n",
    "# Filter the DataFrame.\n",
    "products[fc]"
   ]
  },
  {
   "cell_type": "code",
   "execution_count": null,
   "id": "6444613f",
   "metadata": {},
   "outputs": [],
   "source": []
  }
 ],
 "metadata": {
  "kernelspec": {
   "display_name": "Python 3 (ipykernel)",
   "language": "python",
   "name": "python3"
  },
  "language_info": {
   "codemirror_mode": {
    "name": "ipython",
    "version": 3
   },
   "file_extension": ".py",
   "mimetype": "text/x-python",
   "name": "python",
   "nbconvert_exporter": "python",
   "pygments_lexer": "ipython3",
   "version": "3.9.12"
  }
 },
 "nbformat": 4,
 "nbformat_minor": 5
}
