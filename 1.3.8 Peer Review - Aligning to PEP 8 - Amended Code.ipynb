{
 "cells": [
  {
   "cell_type": "code",
   "execution_count": null,
   "id": "d4265269",
   "metadata": {},
   "outputs": [],
   "source": [
    "# Program To Make Simple Calculator\n",
    "\n",
    "#T his function adds two numbers  \n",
    "def add( x, y ):\n",
    "    return x + y\n",
    "\n",
    "# This function subtracts two numbers \n",
    "def subtract(x, y):\n",
    "    return x - y\n",
    "\n",
    "# This function multiplies two numbers  \n",
    "def multiply(x, y):\n",
    "    return x * y\n",
    " \n",
    "# This function divides two numbers\n",
    "def divide(x, y):\n",
    "    return x / y\n",
    " \n",
    "print ( \"Select operation.\")\n",
    "print ( \"1.Add\")\n",
    "print ( \"2.Subtract\")\n",
    "print ( \"3.Multiply\")\n",
    "print ( \"4.Divide\")\n",
    "\n",
    "\n",
    "\n",
    "while True:\n",
    "# Take input from the  user   \n",
    "choice = input  (\"Enter choice(1/2/3/4): \")\n",
    "\n",
    "# Check if choice is one of the four options                                                                              \n",
    "if choice in ('1', '2', '3', '4'):\n",
    "    Num1   = float(input(\"Enter first number: \"))\n",
    "    Num2   = float(input(\"Enter second number: \"))\n",
    "\n",
    "if CHOICE == '1':\n",
    "    print(Num1, \"+\", Num2, \"=\", add( Num1, Num2 ))\n",
    "\n",
    "elif CHOICE == '2':\n",
    "    print (Num1, \"-\", Num2, \"=\", subtract( Num1, Num2 ))\n",
    "\n",
    "elif CHOICE == '3':\n",
    "    print (Num1, \"*\", Num2, \"=\", multiply( Num1, Num2 ))\n",
    "\n",
    "elif CHOICE == '4':\n",
    "    print (Num1, \"/\", Num2, \"=\", divide( Num1, Num2 ))\n",
    "       break\n",
    "else:\n",
    "    Print( \"Invalid Input\" ) #this prints the invalid input....\n",
    "    "
   ]
  }
 ],
 "metadata": {
  "kernelspec": {
   "display_name": "Python 3 (ipykernel)",
   "language": "python",
   "name": "python3"
  },
  "language_info": {
   "codemirror_mode": {
    "name": "ipython",
    "version": 3
   },
   "file_extension": ".py",
   "mimetype": "text/x-python",
   "name": "python",
   "nbconvert_exporter": "python",
   "pygments_lexer": "ipython3",
   "version": "3.9.12"
  }
 },
 "nbformat": 4,
 "nbformat_minor": 5
}
