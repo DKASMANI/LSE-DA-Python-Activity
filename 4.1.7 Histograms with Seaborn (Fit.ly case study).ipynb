{
 "cells": [
  {
   "cell_type": "code",
   "execution_count": 1,
   "id": "c20a09cf",
   "metadata": {},
   "outputs": [],
   "source": [
    "# Import Matplotlib, Seaborn, and Pandas.\n",
    "import matplotlib.pyplot as plt\n",
    "import seaborn as sns\n",
    "import pandas as pd\n",
    "import numpy as np"
   ]
  },
  {
   "cell_type": "code",
   "execution_count": 2,
   "id": "2e0a450b",
   "metadata": {},
   "outputs": [],
   "source": [
    "# Read the CSV file.\n",
    "fitness = pd.read_csv('daily_activity.csv')"
   ]
  },
  {
   "cell_type": "code",
   "execution_count": 3,
   "id": "a54b9ed0",
   "metadata": {},
   "outputs": [
    {
     "name": "stdout",
     "output_type": "stream",
     "text": [
      "(940, 15)\n",
      "Id                            int64\n",
      "ActivityDate                 object\n",
      "TotalSteps                    int64\n",
      "TotalDistance               float64\n",
      "TrackerDistance             float64\n",
      "LoggedActivitiesDistance    float64\n",
      "VeryActiveDistance          float64\n",
      "ModeratelyActiveDistance    float64\n",
      "LightActiveDistance         float64\n",
      "SedentaryActiveDistance     float64\n",
      "VeryActiveMinutes             int64\n",
      "FairlyActiveMinutes           int64\n",
      "LightlyActiveMinutes          int64\n",
      "SedentaryMinutes              int64\n",
      "Calories                      int64\n",
      "dtype: object\n",
      "Index(['Id', 'ActivityDate', 'TotalSteps', 'TotalDistance', 'TrackerDistance',\n",
      "       'LoggedActivitiesDistance', 'VeryActiveDistance',\n",
      "       'ModeratelyActiveDistance', 'LightActiveDistance',\n",
      "       'SedentaryActiveDistance', 'VeryActiveMinutes', 'FairlyActiveMinutes',\n",
      "       'LightlyActiveMinutes', 'SedentaryMinutes', 'Calories'],\n",
      "      dtype='object')\n"
     ]
    },
    {
     "data": {
      "text/html": [
       "<div>\n",
       "<style scoped>\n",
       "    .dataframe tbody tr th:only-of-type {\n",
       "        vertical-align: middle;\n",
       "    }\n",
       "\n",
       "    .dataframe tbody tr th {\n",
       "        vertical-align: top;\n",
       "    }\n",
       "\n",
       "    .dataframe thead th {\n",
       "        text-align: right;\n",
       "    }\n",
       "</style>\n",
       "<table border=\"1\" class=\"dataframe\">\n",
       "  <thead>\n",
       "    <tr style=\"text-align: right;\">\n",
       "      <th></th>\n",
       "      <th>Id</th>\n",
       "      <th>ActivityDate</th>\n",
       "      <th>TotalSteps</th>\n",
       "      <th>TotalDistance</th>\n",
       "      <th>TrackerDistance</th>\n",
       "      <th>LoggedActivitiesDistance</th>\n",
       "      <th>VeryActiveDistance</th>\n",
       "      <th>ModeratelyActiveDistance</th>\n",
       "      <th>LightActiveDistance</th>\n",
       "      <th>SedentaryActiveDistance</th>\n",
       "      <th>VeryActiveMinutes</th>\n",
       "      <th>FairlyActiveMinutes</th>\n",
       "      <th>LightlyActiveMinutes</th>\n",
       "      <th>SedentaryMinutes</th>\n",
       "      <th>Calories</th>\n",
       "    </tr>\n",
       "  </thead>\n",
       "  <tbody>\n",
       "    <tr>\n",
       "      <th>0</th>\n",
       "      <td>1503960366</td>\n",
       "      <td>4/12/2016</td>\n",
       "      <td>13162</td>\n",
       "      <td>8.50</td>\n",
       "      <td>8.50</td>\n",
       "      <td>0.0</td>\n",
       "      <td>1.88</td>\n",
       "      <td>0.55</td>\n",
       "      <td>6.06</td>\n",
       "      <td>0.0</td>\n",
       "      <td>25</td>\n",
       "      <td>13</td>\n",
       "      <td>328</td>\n",
       "      <td>728</td>\n",
       "      <td>1985</td>\n",
       "    </tr>\n",
       "    <tr>\n",
       "      <th>1</th>\n",
       "      <td>1503960366</td>\n",
       "      <td>4/13/2016</td>\n",
       "      <td>10735</td>\n",
       "      <td>6.97</td>\n",
       "      <td>6.97</td>\n",
       "      <td>0.0</td>\n",
       "      <td>1.57</td>\n",
       "      <td>0.69</td>\n",
       "      <td>4.71</td>\n",
       "      <td>0.0</td>\n",
       "      <td>21</td>\n",
       "      <td>19</td>\n",
       "      <td>217</td>\n",
       "      <td>776</td>\n",
       "      <td>1797</td>\n",
       "    </tr>\n",
       "    <tr>\n",
       "      <th>2</th>\n",
       "      <td>1503960366</td>\n",
       "      <td>4/14/2016</td>\n",
       "      <td>10460</td>\n",
       "      <td>6.74</td>\n",
       "      <td>6.74</td>\n",
       "      <td>0.0</td>\n",
       "      <td>2.44</td>\n",
       "      <td>0.40</td>\n",
       "      <td>3.91</td>\n",
       "      <td>0.0</td>\n",
       "      <td>30</td>\n",
       "      <td>11</td>\n",
       "      <td>181</td>\n",
       "      <td>1218</td>\n",
       "      <td>1776</td>\n",
       "    </tr>\n",
       "    <tr>\n",
       "      <th>3</th>\n",
       "      <td>1503960366</td>\n",
       "      <td>4/15/2016</td>\n",
       "      <td>9762</td>\n",
       "      <td>6.28</td>\n",
       "      <td>6.28</td>\n",
       "      <td>0.0</td>\n",
       "      <td>2.14</td>\n",
       "      <td>1.26</td>\n",
       "      <td>2.83</td>\n",
       "      <td>0.0</td>\n",
       "      <td>29</td>\n",
       "      <td>34</td>\n",
       "      <td>209</td>\n",
       "      <td>726</td>\n",
       "      <td>1745</td>\n",
       "    </tr>\n",
       "    <tr>\n",
       "      <th>4</th>\n",
       "      <td>1503960366</td>\n",
       "      <td>4/16/2016</td>\n",
       "      <td>12669</td>\n",
       "      <td>8.16</td>\n",
       "      <td>8.16</td>\n",
       "      <td>0.0</td>\n",
       "      <td>2.71</td>\n",
       "      <td>0.41</td>\n",
       "      <td>5.04</td>\n",
       "      <td>0.0</td>\n",
       "      <td>36</td>\n",
       "      <td>10</td>\n",
       "      <td>221</td>\n",
       "      <td>773</td>\n",
       "      <td>1863</td>\n",
       "    </tr>\n",
       "  </tbody>\n",
       "</table>\n",
       "</div>"
      ],
      "text/plain": [
       "           Id ActivityDate  TotalSteps  TotalDistance  TrackerDistance  \\\n",
       "0  1503960366    4/12/2016       13162           8.50             8.50   \n",
       "1  1503960366    4/13/2016       10735           6.97             6.97   \n",
       "2  1503960366    4/14/2016       10460           6.74             6.74   \n",
       "3  1503960366    4/15/2016        9762           6.28             6.28   \n",
       "4  1503960366    4/16/2016       12669           8.16             8.16   \n",
       "\n",
       "   LoggedActivitiesDistance  VeryActiveDistance  ModeratelyActiveDistance  \\\n",
       "0                       0.0                1.88                      0.55   \n",
       "1                       0.0                1.57                      0.69   \n",
       "2                       0.0                2.44                      0.40   \n",
       "3                       0.0                2.14                      1.26   \n",
       "4                       0.0                2.71                      0.41   \n",
       "\n",
       "   LightActiveDistance  SedentaryActiveDistance  VeryActiveMinutes  \\\n",
       "0                 6.06                      0.0                 25   \n",
       "1                 4.71                      0.0                 21   \n",
       "2                 3.91                      0.0                 30   \n",
       "3                 2.83                      0.0                 29   \n",
       "4                 5.04                      0.0                 36   \n",
       "\n",
       "   FairlyActiveMinutes  LightlyActiveMinutes  SedentaryMinutes  Calories  \n",
       "0                   13                   328               728      1985  \n",
       "1                   19                   217               776      1797  \n",
       "2                   11                   181              1218      1776  \n",
       "3                   34                   209               726      1745  \n",
       "4                   10                   221               773      1863  "
      ]
     },
     "execution_count": 3,
     "metadata": {},
     "output_type": "execute_result"
    }
   ],
   "source": [
    "# View the DataFrame.\n",
    "print(fitness.shape)\n",
    "print(fitness.dtypes)\n",
    "print(fitness.columns)\n",
    "fitness.head()"
   ]
  },
  {
   "cell_type": "code",
   "execution_count": 4,
   "id": "d30c9d35",
   "metadata": {},
   "outputs": [],
   "source": [
    "# Create a single_day variable.\n",
    "# Specify a chosen day within the ActivityDate column and fitness DataFrame.\n",
    "single_day = fitness[fitness['ActivityDate'] == '4/12/2016']"
   ]
  },
  {
   "cell_type": "code",
   "execution_count": 5,
   "id": "e1c85def",
   "metadata": {},
   "outputs": [
    {
     "name": "stdout",
     "output_type": "stream",
     "text": [
      "(33, 15)\n"
     ]
    }
   ],
   "source": [
    "# View the output.\n",
    "print(single_day.shape)"
   ]
  },
  {
   "cell_type": "code",
   "execution_count": 6,
   "id": "d09d9562",
   "metadata": {},
   "outputs": [
    {
     "data": {
      "text/plain": [
       "<AxesSubplot:xlabel='TotalDistance', ylabel='Count'>"
      ]
     },
     "execution_count": 6,
     "metadata": {},
     "output_type": "execute_result"
    },
    {
     "data": {
      "image/png": "[encoded data removed]",
      "text/plain": [
       "<Figure size 432x288 with 1 Axes>"
      ]
     },
     "metadata": {
      "needs_background": "light"
     },
     "output_type": "display_data"
    }
   ],
   "source": [
    "# Create the histogram.\n",
    "sns.histplot(data=single_day, x='TotalDistance')"
   ]
  },
  {
   "cell_type": "code",
   "execution_count": 7,
   "id": "1978dee7",
   "metadata": {},
   "outputs": [
    {
     "data": {
      "text/plain": [
       "<AxesSubplot:xlabel='TotalDistance', ylabel='Count'>"
      ]
     },
     "execution_count": 7,
     "metadata": {},
     "output_type": "execute_result"
    },
    {
     "data": {
      "image/png": "[encoded data removed]",
      "text/plain": [
       "<Figure size 432x288 with 1 Axes>"
      ]
     },
     "metadata": {
      "needs_background": "light"
     },
     "output_type": "display_data"
    }
   ],
   "source": [
    "# Create the histogram and set binwidth=1.\n",
    "sns.histplot(data=single_day, x='TotalDistance', binwidth=1)"
   ]
  },
  {
   "cell_type": "code",
   "execution_count": 8,
   "id": "730988df",
   "metadata": {},
   "outputs": [
    {
     "data": {
      "text/plain": [
       "<AxesSubplot:xlabel='TotalDistance', ylabel='Count'>"
      ]
     },
     "execution_count": 8,
     "metadata": {},
     "output_type": "execute_result"
    },
    {
     "data": {
      "image/png": "[encoded data removed]",
      "text/plain": [
       "<Figure size 432x288 with 1 Axes>"
      ]
     },
     "metadata": {
      "needs_background": "light"
     },
     "output_type": "display_data"
    }
   ],
   "source": [
    "# Set binwidth=2.\n",
    "sns.histplot(data=single_day, x='TotalDistance', binwidth=2)"
   ]
  },
  {
   "cell_type": "code",
   "execution_count": null,
   "id": "185b1608",
   "metadata": {},
   "outputs": [],
   "source": []
  }
 ],
 "metadata": {
  "kernelspec": {
   "display_name": "Python 3 (ipykernel)",
   "language": "python",
   "name": "python3"
  },
  "language_info": {
   "codemirror_mode": {
    "name": "ipython",
    "version": 3
   },
   "file_extension": ".py",
   "mimetype": "text/x-python",
   "name": "python",
   "nbconvert_exporter": "python",
   "pygments_lexer": "ipython3",
   "version": "3.9.12"
  }
 },
 "nbformat": 4,
 "nbformat_minor": 5
}
